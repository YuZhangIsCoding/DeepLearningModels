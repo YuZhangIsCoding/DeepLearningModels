{
 "cells": [
  {
   "cell_type": "markdown",
   "metadata": {},
   "source": [
    "# Deep Convolutional Generative Adversarial Network"
   ]
  },
  {
   "cell_type": "code",
   "execution_count": 1,
   "metadata": {},
   "outputs": [],
   "source": [
    "import tensorflow as tf"
   ]
  },
  {
   "cell_type": "code",
   "execution_count": 2,
   "metadata": {},
   "outputs": [],
   "source": [
    "import numpy as np"
   ]
  },
  {
   "cell_type": "markdown",
   "metadata": {},
   "source": [
    "## Load dataset"
   ]
  },
  {
   "cell_type": "code",
   "execution_count": 3,
   "metadata": {},
   "outputs": [],
   "source": [
    "(train_images, train_labels), (test_images, test_labels) = tf.keras.datasets.mnist.load_data()"
   ]
  },
  {
   "cell_type": "code",
   "execution_count": 4,
   "metadata": {},
   "outputs": [
    {
     "data": {
      "text/plain": [
       "(60000, 28, 28)"
      ]
     },
     "execution_count": 4,
     "metadata": {},
     "output_type": "execute_result"
    }
   ],
   "source": [
    "train_images.shape"
   ]
  },
  {
   "cell_type": "code",
   "execution_count": 5,
   "metadata": {},
   "outputs": [
    {
     "data": {
      "text/plain": [
       "(10000, 28, 28)"
      ]
     },
     "execution_count": 5,
     "metadata": {},
     "output_type": "execute_result"
    }
   ],
   "source": [
    "test_images.shape"
   ]
  },
  {
   "cell_type": "code",
   "execution_count": 6,
   "metadata": {},
   "outputs": [],
   "source": [
    "train_images = train_images.reshape(-1, 28, 28, 1).astype(np.float32)"
   ]
  },
  {
   "cell_type": "code",
   "execution_count": 7,
   "metadata": {},
   "outputs": [],
   "source": [
    "test_images = test_images.reshape(-1, 28, 28, 1).astype(np.float32)"
   ]
  },
  {
   "cell_type": "code",
   "execution_count": 8,
   "metadata": {},
   "outputs": [],
   "source": [
    "train_images = (train_images-127.5)/127.5"
   ]
  },
  {
   "cell_type": "markdown",
   "metadata": {},
   "source": [
    "### Create mini-batch"
   ]
  },
  {
   "cell_type": "code",
   "execution_count": 9,
   "metadata": {},
   "outputs": [],
   "source": [
    "def get_batch(x, y=None, batch_size=32, epochs=1, shuffle=True):\n",
    "    if y is None:\n",
    "        dataset = tf.data.Dataset.from_tensor_slices(x)\n",
    "    else:\n",
    "        dataset = tf.data.Dataset.from_tensor_slices((x, y))\n",
    "    if shuffle:\n",
    "        dataset = dataset.shuffle(buffer_size=len(x))\n",
    "    dataset = dataset.batch(batch_size).repeat(epochs)\n",
    "    return dataset.make_one_shot_iterator().get_next()"
   ]
  },
  {
   "cell_type": "markdown",
   "metadata": {},
   "source": [
    "## Build model"
   ]
  },
  {
   "cell_type": "code",
   "execution_count": 10,
   "metadata": {},
   "outputs": [
    {
     "name": "stderr",
     "output_type": "stream",
     "text": [
      "Using TensorFlow backend.\n"
     ]
    }
   ],
   "source": [
    "from keras import Sequential"
   ]
  },
  {
   "cell_type": "code",
   "execution_count": 11,
   "metadata": {},
   "outputs": [],
   "source": [
    "from keras.layers import Dense, BatchNormalization, LeakyReLU, Reshape\n",
    "from keras.layers import Conv2DTranspose, Conv2D, Dropout, Flatten"
   ]
  },
  {
   "cell_type": "markdown",
   "metadata": {},
   "source": [
    "### Input"
   ]
  },
  {
   "cell_type": "code",
   "execution_count": 12,
   "metadata": {},
   "outputs": [],
   "source": [
    "noise_dim = 100\n",
    "\n",
    "noise = tf.placeholder(tf.float32, shape=[None, noise_dim])\n",
    "targets = tf.placeholder(tf.float32, shape=[None, 28, 28, 1])"
   ]
  },
  {
   "cell_type": "markdown",
   "metadata": {},
   "source": [
    "### Generator model"
   ]
  },
  {
   "cell_type": "code",
   "execution_count": 13,
   "metadata": {},
   "outputs": [],
   "source": [
    "def make_generator_model():\n",
    "    model = Sequential()\n",
    "    model.add(Dense(7*7*256, use_bias=False, input_shape=(100,)))\n",
    "    model.add(BatchNormalization())\n",
    "    model.add(LeakyReLU())\n",
    "    \n",
    "    model.add(Reshape((7, 7, 256)))\n",
    "    assert model.output_shape == (None, 7, 7, 256)\n",
    "    \n",
    "    model.add(Conv2DTranspose(128, (5, 5), strides=(1, 1), padding='same', use_bias=False))\n",
    "    assert model.output_shape == (None, 7, 7, 128)\n",
    "    \n",
    "    model.add(BatchNormalization())\n",
    "    model.add(LeakyReLU())\n",
    "    \n",
    "    model.add(Conv2DTranspose(64, (5, 5), strides=(2, 2), padding='same', use_bias=False))\n",
    "    assert model.output_shape == (None, 14, 14, 64)\n",
    "    model.add(BatchNormalization())\n",
    "    model.add(LeakyReLU())\n",
    "    \n",
    "    model.add(Conv2DTranspose(1, (5, 5), strides=(2, 2), padding='same',\n",
    "                              use_bias=False, activation='tanh'))\n",
    "    assert model.output_shape == (None, 28, 28, 1)\n",
    "    \n",
    "    return model"
   ]
  },
  {
   "cell_type": "markdown",
   "metadata": {},
   "source": [
    "### Discriminator model"
   ]
  },
  {
   "cell_type": "code",
   "execution_count": 14,
   "metadata": {},
   "outputs": [],
   "source": [
    "def make_discriminator_model():\n",
    "    model = Sequential()\n",
    "    model.add(Conv2D(64, (5, 5), strides=(2, 2), padding='same', input_shape=(28, 28, 1)))\n",
    "    model.add(LeakyReLU())\n",
    "    model.add(Dropout(0.3))\n",
    "    \n",
    "    model.add(Conv2D(128, (5, 5), strides=(2, 2), padding='same'))\n",
    "    model.add(LeakyReLU())\n",
    "    model.add(Dropout(0.3))\n",
    "    \n",
    "    model.add(Flatten())\n",
    "    model.add(Dense(1))\n",
    "    \n",
    "    return model"
   ]
  },
  {
   "cell_type": "code",
   "execution_count": 15,
   "metadata": {},
   "outputs": [],
   "source": [
    "with tf.name_scope('generator'):\n",
    "    generator = make_generator_model()\n",
    "    generated_images = generator(noise)\n",
    "with tf.name_scope('discriminator'):\n",
    "    discriminator = make_discriminator_model()\n",
    "    generated_logits = discriminator(generated_images)\n",
    "    target_logits = discriminator(targets)"
   ]
  },
  {
   "cell_type": "markdown",
   "metadata": {},
   "source": [
    "### Loss function"
   ]
  },
  {
   "cell_type": "markdown",
   "metadata": {},
   "source": [
    "#### The generator loss \n",
    "\n",
    "Since we want the generator to generate pictures close to real pictures, we need to optimize the generator parameters so that the discrimintor think those generated pictures are real picture, which means the discriminator outputs 1 for the generated pictures. Thus the generator loss is a sigmoid cross entropy loss of the generated images and an array of ones."
   ]
  },
  {
   "cell_type": "code",
   "execution_count": 16,
   "metadata": {},
   "outputs": [],
   "source": [
    "# generator_loss\n",
    "gen_loss = tf.nn.sigmoid_cross_entropy_with_logits(labels=tf.ones_like(generated_logits),\n",
    "                                                  logits=generated_logits)\n",
    "gen_loss = tf.reduce_mean(gen_loss)"
   ]
  },
  {
   "cell_type": "markdown",
   "metadata": {},
   "source": [
    "#### The discriminator loss\n",
    "\n",
    "We want the discriminators able to distinguish fake images from real images. Fake images should be labeled as zeros, and real images should be labeled as ones. And combined the two erros together."
   ]
  },
  {
   "cell_type": "code",
   "execution_count": 17,
   "metadata": {},
   "outputs": [],
   "source": [
    "real_error = tf.nn.sigmoid_cross_entropy_with_logits(labels=tf.ones_like(target_logits),\n",
    "                                                    logits=target_logits)\n",
    "fake_error = tf.nn.sigmoid_cross_entropy_with_logits(labels=tf.zeros_like(generated_logits),\n",
    "                                                    logits=generated_logits)\n",
    "real_error = tf.reduce_mean(real_error)\n",
    "fake_error = tf.reduce_mean(fake_error)\n",
    "dis_loss = real_error+fake_error"
   ]
  },
  {
   "cell_type": "markdown",
   "metadata": {},
   "source": [
    "### Define Optimizer"
   ]
  },
  {
   "cell_type": "code",
   "execution_count": 18,
   "metadata": {},
   "outputs": [],
   "source": [
    "gen_var_list = tf.trainable_variables(scope='generator')\n",
    "dis_var_list = tf.trainable_variables(scope='discriminator')"
   ]
  },
  {
   "cell_type": "code",
   "execution_count": 19,
   "metadata": {},
   "outputs": [],
   "source": [
    "gen_grads = tf.gradients(gen_loss, gen_var_list)\n",
    "dis_grads = tf.gradients(dis_loss, dis_var_list)"
   ]
  },
  {
   "cell_type": "code",
   "execution_count": 20,
   "metadata": {},
   "outputs": [],
   "source": [
    "gen_train = tf.train.AdamOptimizer(1e-4).apply_gradients(zip(gen_grads, gen_var_list))\n",
    "dis_train = tf.train.AdamOptimizer(1e-4).apply_gradients(zip(dis_grads, dis_var_list))"
   ]
  },
  {
   "cell_type": "markdown",
   "metadata": {},
   "source": [
    "## Train"
   ]
  },
  {
   "cell_type": "code",
   "execution_count": 21,
   "metadata": {},
   "outputs": [
    {
     "name": "stdout",
     "output_type": "stream",
     "text": [
      "Iteration 0, generator loss: 0.692550, discriminator loss: 1.383406\n",
      "Iteration 100, generator loss: 0.502349, discriminator loss: 1.192763\n",
      "Iteration 200, generator loss: 1.636345, discriminator loss: 0.596447\n",
      "Iteration 300, generator loss: 1.159016, discriminator loss: 0.869216\n",
      "Iteration 400, generator loss: 0.971280, discriminator loss: 1.271450\n",
      "Iteration 500, generator loss: 1.111439, discriminator loss: 1.635183\n",
      "Iteration 600, generator loss: 1.645658, discriminator loss: 0.592239\n",
      "Iteration 700, generator loss: 1.314601, discriminator loss: 1.103094\n",
      "Iteration 800, generator loss: 3.179282, discriminator loss: 0.115883\n",
      "Iteration 900, generator loss: 2.022287, discriminator loss: 0.511514\n",
      "Iteration 1000, generator loss: 1.909041, discriminator loss: 0.845537\n",
      "Iteration 1100, generator loss: 2.175731, discriminator loss: 0.456648\n",
      "Iteration 1200, generator loss: 1.755713, discriminator loss: 0.723967\n",
      "Iteration 1300, generator loss: 2.674845, discriminator loss: 0.288647\n",
      "Iteration 1400, generator loss: 1.945008, discriminator loss: 0.615020\n",
      "Iteration 1500, generator loss: 2.223220, discriminator loss: 0.630973\n",
      "Iteration 1600, generator loss: 1.609034, discriminator loss: 0.490034\n",
      "Iteration 1700, generator loss: 2.009838, discriminator loss: 0.852753\n",
      "Iteration 1800, generator loss: 1.738809, discriminator loss: 1.047669\n",
      "Iteration 1900, generator loss: 1.266870, discriminator loss: 1.048006\n",
      "Iteration 2000, generator loss: 1.471058, discriminator loss: 0.945770\n",
      "Iteration 2100, generator loss: 1.304263, discriminator loss: 0.834187\n",
      "Iteration 2200, generator loss: 1.093135, discriminator loss: 1.039909\n",
      "Iteration 2300, generator loss: 1.330685, discriminator loss: 0.801333\n",
      "Iteration 2400, generator loss: 1.507489, discriminator loss: 0.904154\n",
      "Iteration 2500, generator loss: 0.859542, discriminator loss: 1.497886\n",
      "Iteration 2600, generator loss: 0.919618, discriminator loss: 1.526368\n",
      "Iteration 2700, generator loss: 1.037918, discriminator loss: 0.992149\n",
      "Iteration 2800, generator loss: 1.041386, discriminator loss: 1.141172\n",
      "Iteration 2900, generator loss: 1.060087, discriminator loss: 1.031029\n",
      "Iteration 3000, generator loss: 1.225866, discriminator loss: 1.063918\n",
      "Iteration 3100, generator loss: 1.236982, discriminator loss: 0.937058\n",
      "Iteration 3200, generator loss: 1.231930, discriminator loss: 1.077761\n",
      "Iteration 3300, generator loss: 1.334498, discriminator loss: 1.098132\n",
      "Iteration 3400, generator loss: 1.122563, discriminator loss: 1.045714\n",
      "Iteration 3500, generator loss: 1.219206, discriminator loss: 0.980297\n",
      "Iteration 3600, generator loss: 1.002795, discriminator loss: 1.166191\n",
      "Iteration 3700, generator loss: 1.365536, discriminator loss: 0.905591\n",
      "---Read All Epochs---\n",
      "---Training Ends---\n"
     ]
    }
   ],
   "source": [
    "epochs = 2\n",
    "batch_size = 32\n",
    "max_iter = 500000\n",
    "x_batch = get_batch(train_images, batch_size=batch_size, epochs=epochs, shuffle=True)\n",
    "saver = tf.train.Saver()\n",
    "with tf.Session() as sess:\n",
    "    n_iter = 0\n",
    "    sess.run(tf.global_variables_initializer())\n",
    "    try:\n",
    "        while n_iter < max_iter:\n",
    "            random_noise = np.random.normal(size=(batch_size, noise_dim))\n",
    "            real_images = sess.run(x_batch)\n",
    "            loss1, _ = sess.run([gen_loss, gen_train], {noise: random_noise})\n",
    "            loss2, _ = sess.run([dis_loss, dis_train], \n",
    "                                {noise: random_noise, targets: real_images})\n",
    "            if n_iter%100 == 0:\n",
    "                print('Iteration %d, generator loss: %f, discriminator loss: %f' \n",
    "                      %(n_iter, loss1, loss2))\n",
    "            n_iter += 1\n",
    "    except tf.errors.OutOfRangeError:\n",
    "        print('---Read All Epochs---')\n",
    "    print('---Training Ends---')\n",
    "    saver.save(sess, 'checkpoints/DCGAN.ckpt')"
   ]
  },
  {
   "cell_type": "markdown",
   "metadata": {},
   "source": [
    "## Generate"
   ]
  },
  {
   "cell_type": "code",
   "execution_count": 22,
   "metadata": {},
   "outputs": [
    {
     "name": "stdout",
     "output_type": "stream",
     "text": [
      "INFO:tensorflow:Restoring parameters from checkpoints/DCGAN.ckpt\n"
     ]
    }
   ],
   "source": [
    "with tf.Session() as sess:\n",
    "    saver.restore(sess, tf.train.latest_checkpoint('checkpoints'))\n",
    "    random_noise = np.random.normal(size=(1, noise_dim))\n",
    "    temp = sess.run(generated_images, {noise: random_noise})"
   ]
  },
  {
   "cell_type": "markdown",
   "metadata": {},
   "source": [
    "### Show image"
   ]
  },
  {
   "cell_type": "code",
   "execution_count": 23,
   "metadata": {},
   "outputs": [],
   "source": [
    "import matplotlib.pyplot as plt"
   ]
  },
  {
   "cell_type": "code",
   "execution_count": 24,
   "metadata": {},
   "outputs": [
    {
     "data": {
      "text/plain": [
       "<matplotlib.image.AxesImage at 0x181fbd2a90>"
      ]
     },
     "execution_count": 24,
     "metadata": {},
     "output_type": "execute_result"
    },
    {
     "data": {
      "image/png": "[encoded data removed]",
      "text/plain": [
       "<Figure size 432x288 with 1 Axes>"
      ]
     },
     "metadata": {},
     "output_type": "display_data"
    }
   ],
   "source": [
    "plt.imshow(temp[0, :, :, 0]*127.5+127.5, cmap='gray')"
   ]
  },
  {
   "cell_type": "markdown",
   "metadata": {},
   "source": [
    "Only after 2 epochs, we can see that the generated images looks something like real images"
   ]
  },
  {
   "cell_type": "code",
   "execution_count": null,
   "metadata": {},
   "outputs": [],
   "source": []
  }
 ],
 "metadata": {
  "kernelspec": {
   "display_name": "Python 3",
   "language": "python",
   "name": "python3"
  },
  "language_info": {
   "codemirror_mode": {
    "name": "ipython",
    "version": 3
   },
   "file_extension": ".py",
   "mimetype": "text/x-python",
   "name": "python",
   "nbconvert_exporter": "python",
   "pygments_lexer": "ipython3",
   "version": "3.6.8"
  }
 },
 "nbformat": 4,
 "nbformat_minor": 2
}
